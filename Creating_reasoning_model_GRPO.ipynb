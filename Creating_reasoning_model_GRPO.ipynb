{
  "nbformat": 4,
  "nbformat_minor": 0,
  "metadata": {
    "colab": {
      "provenance": [],
      "authorship_tag": "ABX9TyPU/8T4+rECGD77U024kBP0",
      "include_colab_link": true
    },
    "kernelspec": {
      "name": "python3",
      "display_name": "Python 3"
    },
    "language_info": {
      "name": "python"
    }
  },
  "cells": [
    {
      "cell_type": "markdown",
      "metadata": {
        "id": "view-in-github",
        "colab_type": "text"
      },
      "source": [
        "<a href=\"https://colab.research.google.com/github/Firojpaudel/Reasoning_Model_/blob/main/Creating_reasoning_model_GRPO.ipynb\" target=\"_parent\"><img src=\"https://colab.research.google.com/assets/colab-badge.svg\" alt=\"Open In Colab\"/></a>"
      ]
    },
    {
      "cell_type": "markdown",
      "source": [
        "#### Before Diving In:\n",
        "\n",
        "**What is GRPO?**\n",
        "- Stands for Group Relative Policy Optimization. Its is a reinforcement learning technique that helps models develop reasoning capabilities autonomously.\n",
        "- First introduced the concept on DeepSeek paper.\n",
        "\n",
        "---"
      ],
      "metadata": {
        "id": "synE11txw3SL"
      }
    },
    {
      "cell_type": "markdown",
      "source": [
        "#### **Why Unsloth?**:\n",
        "- Well, thanks to Unsloth, training a larger params model ( $15B$ or so) on customer-grade GPUs like that of Colab and Kaggle is possible due to some major optimizations done on the **transformers** library."
      ],
      "metadata": {
        "id": "uxMo-cVyoZa4"
      }
    },
    {
      "cell_type": "code",
      "source": [],
      "metadata": {
        "id": "c1Fsz-fVpB8Q"
      },
      "execution_count": null,
      "outputs": []
    }
  ]
}